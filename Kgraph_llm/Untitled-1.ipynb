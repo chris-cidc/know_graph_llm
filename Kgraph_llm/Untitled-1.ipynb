{
 "cells": [
  {
   "cell_type": "markdown",
   "metadata": {},
   "source": [
    "***Inference Pipeline***"
   ]
  },
  {
   "cell_type": "code",
   "execution_count": 19,
   "metadata": {},
   "outputs": [],
   "source": [
    "import pandas as pd\n",
    "import json\n",
    "import os\n",
    "from dotenv import load_dotenv\n",
    "from langchain_community.graphs import Neo4jGraph\n",
    "from langchain.chains import GraphCypherQAChain\n",
    "from langchain_google_genai import ChatGoogleGenerativeAI\n",
    "from langchain_community.llms import HuggingFaceHub\n",
    "from langchain_community.vectorstores import Neo4jVector\n",
    "from langchain_core.example_selectors import SemanticSimilarityExampleSelector\n",
    "from langchain_community.embeddings import HuggingFaceEmbeddings\n",
    "from langchain_core.prompts import FewShotPromptTemplate, PromptTemplate\n",
    "load_dotenv()\n",
    "\n",
    "def graphsearch(question):\n",
    "    # Gemini (https://aistudio.google.com/app/apikey)\n",
    "    gemini_api = os.getenv(\"GEMINI_API\")\n",
    "\n",
    "    # Hugging Face (if we want to use open source LLM)\n",
    "    hf_api = os.getenv(\"HF_API\")\n",
    "\n",
    "    # Neo4j \n",
    "    neo4j_url = os.getenv(\"NEO4J_CONNECTION_URL\")\n",
    "    neo4j_user = os.getenv(\"NEO4J_USER\")\n",
    "    neo4j_password = os.getenv(\"NEO4J_PASSWORD\")\n",
    "\n",
    "    # https://api.python.langchain.com/en/latest/graphs/langchain_community.graphs.neo4j_graph.Neo4jGraph.html\n",
    "    graph = Neo4jGraph(neo4j_url,neo4j_user,neo4j_password)\n",
    "\n",
    "\n",
    "    examples= [\n",
    "        {\n",
    "            \"question\": \"Which workers speak French?\",\n",
    "            \"query\": \"MATCH (p:Person)-[:SPEAKS]->(l:Language {{name: 'French'}}) RETURN p.name\",\n",
    "        },\n",
    "        {\n",
    "            \"question\": \"What industries are workers named Emily associated with?\",\n",
    "            \"query\": \"MATCH (p:Person {{name: 'Emily'}})-[:WORKS_IN]->(c:Company)-[:IS_IN]->(i:Industry) RETURN i.name\",\n",
    "        },\n",
    "        {\n",
    "            \"question\": \"Which workers live in Canada and speak German?\",\n",
    "            \"query\": \"MATCH (p:Person)-[:LIVES_IN]->(:Country {{name: 'Canada'}}), (p)-[:SPEAKS]->(:Language {{name: 'German'}}) RETURN p.name\",\n",
    "        },\n",
    "        {\n",
    "            \"question\": \"In which countries do workers who speak Spanish live?\",\n",
    "            \"query\": \"MATCH (p:Person)-[:SPEAKS]->(:Language {{name: 'Spanish'}})<-[:SPEAKS]-(worker:Person)-[:LIVES_IN]->(c:Country) RETURN DISTINCT c.name AS Country\",\n",
    "        },\n",
    "        {\n",
    "            \"question\": \"What companies do workers named John work in?\",\n",
    "            \"query\": \"MATCH (p:Person {{name: 'John'}})-[:WORKS_IN]->(c:Company) RETURN c.name\",\n",
    "        },\n",
    "        {\n",
    "            \"question\":\"How many workers in Hospital and Health Care industry able to speak Korea\",\n",
    "            \"query\": \"MATCH (p:Person)-[:WORKS_IN]->(:Company)-[:IS_IN]->(:Industry {{name: 'Hospitals and Health Care'}}),(p)-[:SPEAKS]->(:Language {{name: 'Korean'}}) RETURN COUNT(DISTINCT p) AS NumberOfWorkers\",\n",
    "        },\n",
    "        {\n",
    "            \"question\": \"What companies are located in the technology industry?\",\n",
    "            \"query\": \"MATCH (c:Company)-[:IS_IN]->(:Industry {{name: 'Technology'}}) RETURN c.name\",\n",
    "        },\n",
    "        {\n",
    "            \"question\": \"Where do workers named Alice live?\",\n",
    "            \"query\": \"MATCH (p:Person {{name: 'Alice'}})-[:LIVES_IN]->(c:Country) RETURN c.name\",\n",
    "        },\n",
    "    ]\n",
    "\n",
    "    llm = ChatGoogleGenerativeAI(model=\"gemini-pro\", google_api_key = gemini_api ,temperature = 0)\n",
    "\n",
    "    example_prompt = PromptTemplate.from_template(\n",
    "        \"User input: {question}\\nCypher query: {query}\"\n",
    "    )\n",
    "\n",
    "    example_selector = SemanticSimilarityExampleSelector.from_examples(\n",
    "        examples,\n",
    "        HuggingFaceEmbeddings(),\n",
    "        Neo4jVector,\n",
    "        url = neo4j_url,\n",
    "        username = neo4j_user,\n",
    "        password = neo4j_password,\n",
    "        k=3,\n",
    "        input_keys=[\"question\"],\n",
    "    )\n",
    "\n",
    "    example_selector.select_examples({\"question\": f'{question}'})\n",
    "\n",
    "    dynamic_prompt = FewShotPromptTemplate(\n",
    "        example_selector=example_selector,\n",
    "        example_prompt=example_prompt,\n",
    "        prefix=\"You are a Neo4j expert. Given an input question, create a syntactically correct Cypher query to run.\\n\\nHere is the schema information\\n{schema}.\\n\\nBelow are a number of examples of questions and their corresponding Cypher queries.\",\n",
    "        suffix=\"User input: {question}\\nCypher query: \",\n",
    "        input_variables=[\"question\", \"schema\"],\n",
    "    )\n",
    "\n",
    "    chain2 = GraphCypherQAChain.from_llm(graph=graph, llm=llm, cypher_prompt=dynamic_prompt, verbose=True)\n",
    "\n",
    "    print(dynamic_prompt.format(question=question, schema=\"foo\"))\n",
    "\n",
    "    response = chain2.invoke(question)['result']\n",
    "    print(response)"
   ]
  },
  {
   "cell_type": "code",
   "execution_count": 20,
   "metadata": {},
   "outputs": [
    {
     "name": "stdout",
     "output_type": "stream",
     "text": [
      "You are a Neo4j expert. Given an input question, create a syntactically correct Cypher query to run.\n",
      "\n",
      "Here is the schema information\n",
      "foo.\n",
      "\n",
      "Below are a number of examples of questions and their corresponding Cypher queries.\n",
      "\n",
      "User input: What companies do workers named John work in?\n",
      "Cypher query: MATCH (p:Person {name: 'John'})-[:WORKS_IN]->(c:Company) RETURN c.name\n",
      "\n",
      "User input: Where do workers named Alice live?\n",
      "Cypher query: MATCH (p:Person {name: 'Alice'})-[:LIVES_IN]->(c:Country) RETURN c.name\n",
      "\n",
      "User input: What industries are workers named Emily associated with?\n",
      "Cypher query: MATCH (p:Person {name: 'Emily'})-[:WORKS_IN]->(c:Company)-[:IS_IN]->(i:Industry) RETURN i.name\n",
      "\n",
      "User input: Where is Paul Lukes working?\n",
      "Cypher query: \n",
      "\n",
      "\n",
      "\u001b[1m> Entering new GraphCypherQAChain chain...\u001b[0m\n",
      "Generated Cypher:\n",
      "\u001b[32;1m\u001b[1;3mMATCH (p:Person {name: 'Paul Lukes'})-[:WORKS_IN]->(c:Company) RETURN c.name\u001b[0m\n",
      "Full Context:\n",
      "\u001b[32;1m\u001b[1;3m[{'c.name': 'Toolbox Creative'}]\u001b[0m\n",
      "\n",
      "\u001b[1m> Finished chain.\u001b[0m\n",
      "I don't know the answer.\n"
     ]
    }
   ],
   "source": [
    "graphsearch('Where is Paul Lukes working?')"
   ]
  },
  {
   "cell_type": "code",
   "execution_count": 2,
   "metadata": {},
   "outputs": [
    {
     "name": "stderr",
     "output_type": "stream",
     "text": [
      "/Users/chris/Projects/KnowledgeGraph/venv/lib/python3.9/site-packages/urllib3/__init__.py:35: NotOpenSSLWarning: urllib3 v2 only supports OpenSSL 1.1.1+, currently the 'ssl' module is compiled with 'LibreSSL 2.8.3'. See: https://github.com/urllib3/urllib3/issues/3020\n",
      "  warnings.warn(\n",
      "/Users/chris/Projects/KnowledgeGraph/venv/lib/python3.9/site-packages/tqdm/auto.py:21: TqdmWarning: IProgress not found. Please update jupyter and ipywidgets. See https://ipywidgets.readthedocs.io/en/stable/user_install.html\n",
      "  from .autonotebook import tqdm as notebook_tqdm\n"
     ]
    },
    {
     "data": {
      "text/plain": [
       "True"
      ]
     },
     "execution_count": 2,
     "metadata": {},
     "output_type": "execute_result"
    }
   ],
   "source": [
    "import pandas as pd\n",
    "import json\n",
    "import os\n",
    "from dotenv import load_dotenv\n",
    "from langchain_community.graphs import Neo4jGraph\n",
    "from langchain.chains import GraphCypherQAChain\n",
    "from langchain_google_genai import ChatGoogleGenerativeAI\n",
    "from langchain_community.llms import HuggingFaceHub\n",
    "from langchain_community.vectorstores import Neo4jVector\n",
    "from langchain_core.example_selectors import SemanticSimilarityExampleSelector\n",
    "from langchain_community.embeddings import HuggingFaceEmbeddings\n",
    "from langchain_core.prompts import FewShotPromptTemplate, PromptTemplate\n",
    "load_dotenv()"
   ]
  },
  {
   "cell_type": "code",
   "execution_count": 4,
   "metadata": {},
   "outputs": [
    {
     "name": "stdout",
     "output_type": "stream",
     "text": [
      "neo4j+s://19bd88a6.databases.neo4j.io:7687\n",
      "neo4j\n"
     ]
    }
   ],
   "source": [
    "\n",
    "# Gemini (https://aistudio.google.com/app/apikey)\n",
    "gemini_api = os.getenv(\"GEMINI_API\")\n",
    "\n",
    "# Hugging Face (if we want to use open source LLM)\n",
    "hf_api = os.getenv(\"HF_API\")\n",
    "\n",
    "# Neo4j \n",
    "neo4j_url = os.getenv(\"NEO4J_CONNECTION_URL\")\n",
    "print(neo4j_url)\n",
    "neo4j_user = os.getenv(\"NEO4J_USER\")\n",
    "print(neo4j_user)\n",
    "neo4j_password = os.getenv(\"NEO4J_PASSWORD\")\n",
    "\n",
    "# https://api.python.langchain.com/en/latest/graphs/langchain_community.graphs.neo4j_graph.Neo4jGraph.html\n",
    "graph = Neo4jGraph(neo4j_url,neo4j_user,neo4j_password)\n"
   ]
  },
  {
   "cell_type": "code",
   "execution_count": 5,
   "metadata": {},
   "outputs": [],
   "source": [
    "examples= [\n",
    "    {\n",
    "        \"question\": \"Which workers speak French?\",\n",
    "        \"query\": \"MATCH (p:Person)-[:SPEAKS]->(l:Language {{name: 'French'}}) RETURN p.name\",\n",
    "    },\n",
    "    {\n",
    "        \"question\": \"What industries are workers named Emily associated with?\",\n",
    "        \"query\": \"MATCH (p:Person {{name: 'Emily'}})-[:WORKS_IN]->(c:Company)-[:IS_IN]->(i:Industry) RETURN i.name\",\n",
    "    },\n",
    "    {\n",
    "        \"question\": \"Which workers live in Canada and speak German?\",\n",
    "        \"query\": \"MATCH (p:Person)-[:LIVES_IN]->(:Country {{name: 'Canada'}}), (p)-[:SPEAKS]->(:Language {{name: 'German'}}) RETURN p.name\",\n",
    "    },\n",
    "    {\n",
    "        \"question\": \"In which countries do workers who speak Spanish live?\",\n",
    "        \"query\": \"MATCH (p:Person)-[:SPEAKS]->(:Language {{name: 'Spanish'}})<-[:SPEAKS]-(worker:Person)-[:LIVES_IN]->(c:Country) RETURN DISTINCT c.name AS Country\",\n",
    "    },\n",
    "    {\n",
    "        \"question\": \"What companies do workers named John work in?\",\n",
    "        \"query\": \"MATCH (p:Person {{name: 'John'}})-[:WORKS_IN]->(c:Company) RETURN c.name\",\n",
    "    },\n",
    "    {\n",
    "        \"question\":\"How many workers in Hospital and Health Care industry able to speak Korea\",\n",
    "        \"query\": \"MATCH (p:Person)-[:WORKS_IN]->(:Company)-[:IS_IN]->(:Industry {{name: 'Hospitals and Health Care'}}),(p)-[:SPEAKS]->(:Language {{name: 'Korean'}}) RETURN COUNT(DISTINCT p) AS NumberOfWorkers\",\n",
    "    },\n",
    "    {\n",
    "        \"question\": \"What companies are located in the technology industry?\",\n",
    "        \"query\": \"MATCH (c:Company)-[:IS_IN]->(:Industry {{name: 'Technology'}}) RETURN c.name\",\n",
    "    },\n",
    "    {\n",
    "        \"question\": \"Where do workers named Alice live?\",\n",
    "        \"query\": \"MATCH (p:Person {{name: 'Alice'}})-[:LIVES_IN]->(c:Country) RETURN c.name\",\n",
    "    },\n",
    "]"
   ]
  },
  {
   "cell_type": "code",
   "execution_count": 6,
   "metadata": {},
   "outputs": [],
   "source": [
    "llm = ChatGoogleGenerativeAI(model=\"gemini-pro\", google_api_key = gemini_api ,temperature = 0)\n"
   ]
  },
  {
   "cell_type": "code",
   "execution_count": 7,
   "metadata": {},
   "outputs": [],
   "source": [
    "example_prompt = PromptTemplate.from_template(\n",
    "    \"User input: {question}\\nCypher query: {query}\"\n",
    ")\n"
   ]
  },
  {
   "cell_type": "code",
   "execution_count": 8,
   "metadata": {},
   "outputs": [],
   "source": [
    "example_selector = SemanticSimilarityExampleSelector.from_examples(\n",
    "    examples,\n",
    "    HuggingFaceEmbeddings(),\n",
    "    Neo4jVector,\n",
    "    url = neo4j_url,\n",
    "    username = neo4j_user,\n",
    "    password = neo4j_password,\n",
    "    k=3,\n",
    "    input_keys=[\"question\"],\n",
    ")\n"
   ]
  },
  {
   "cell_type": "code",
   "execution_count": 9,
   "metadata": {},
   "outputs": [
    {
     "data": {
      "text/plain": [
       "[{'query': \"MATCH (p:Person {{name: 'John'}})-[:WORKS_IN]->(c:Company) RETURN c.name\",\n",
       "  'question': 'What companies do workers named John work in?'},\n",
       " {'query': \"MATCH (p:Person {{name: 'Alice'}})-[:LIVES_IN]->(c:Country) RETURN c.name\",\n",
       "  'question': 'Where do workers named Alice live?'},\n",
       " {'query': \"MATCH (p:Person {{name: 'Emily'}})-[:WORKS_IN]->(c:Company)-[:IS_IN]->(i:Industry) RETURN i.name\",\n",
       "  'question': 'What industries are workers named Emily associated with?'}]"
      ]
     },
     "execution_count": 9,
     "metadata": {},
     "output_type": "execute_result"
    }
   ],
   "source": [
    "example_selector.select_examples({\"question\": \"Where do Michael work?\"})\n"
   ]
  },
  {
   "cell_type": "code",
   "execution_count": 10,
   "metadata": {},
   "outputs": [],
   "source": [
    "dynamic_prompt = FewShotPromptTemplate(\n",
    "    example_selector=example_selector,\n",
    "    example_prompt=example_prompt,\n",
    "    prefix=\"You are a Neo4j expert. Given an input question, create a syntactically correct Cypher query to run.\\n\\nHere is the schema information\\n{schema}.\\n\\nBelow are a number of examples of questions and their corresponding Cypher queries.\",\n",
    "    suffix=\"User input: {question}\\nCypher query: \",\n",
    "    input_variables=[\"question\", \"schema\"],\n",
    ")"
   ]
  },
  {
   "cell_type": "code",
   "execution_count": 11,
   "metadata": {},
   "outputs": [],
   "source": [
    "chain2 = GraphCypherQAChain.from_llm(graph=graph, llm=llm, cypher_prompt=dynamic_prompt, verbose=True)\n"
   ]
  },
  {
   "cell_type": "code",
   "execution_count": 12,
   "metadata": {},
   "outputs": [],
   "source": [
    "questions = [\"List all companies in advertising services industry!\",\n",
    "             \"A worker who graduated from Simon Fraser University is currently employed at?\",\n",
    "             \"Where is Paul Lukes working?\",\n",
    "             \"A worker residing in Canada who is proficient in Vietnamese?\",\n",
    "             \"How many worker in United States speak Urdu?\"]"
   ]
  },
  {
   "cell_type": "code",
   "execution_count": 13,
   "metadata": {},
   "outputs": [
    {
     "name": "stdout",
     "output_type": "stream",
     "text": [
      "====== START ======\n",
      "\n",
      "\n",
      "\u001b[1m> Entering new GraphCypherQAChain chain...\u001b[0m\n",
      "Generated Cypher:\n",
      "\u001b[32;1m\u001b[1;3mMATCH (c:Company)-[:IS_IN]->(i:Industry {name: 'Advertising Services'}) RETURN c.name\u001b[0m\n",
      "Full Context:\n",
      "\u001b[32;1m\u001b[1;3m[{'c.name': 'Toolbox Creative'}, {'c.name': 'Baked Advertising'}, {'c.name': 'Search Engine People'}]\u001b[0m\n",
      "\n",
      "\u001b[1m> Finished chain.\u001b[0m\n",
      "Toolbox Creative, Baked Advertising, Search Engine People\n",
      "====== END ====== \n",
      "\n",
      "====== START ======\n",
      "\n",
      "\n",
      "\u001b[1m> Entering new GraphCypherQAChain chain...\u001b[0m\n",
      "Generated Cypher:\n",
      "\u001b[32;1m\u001b[1;3mMATCH (p:Person)-[:EDUCATED_AT]->(s:School {name: 'Simon Fraser University'})-[:WORKS_IN]->(c:Company) RETURN c.name\u001b[0m\n",
      "Full Context:\n",
      "\u001b[32;1m\u001b[1;3m[]\u001b[0m\n",
      "\n",
      "\u001b[1m> Finished chain.\u001b[0m\n",
      "I do not have that information.\n",
      "====== END ====== \n",
      "\n",
      "====== START ======\n",
      "\n",
      "\n",
      "\u001b[1m> Entering new GraphCypherQAChain chain...\u001b[0m\n",
      "Generated Cypher:\n",
      "\u001b[32;1m\u001b[1;3mMATCH (p:Person {name: 'Paul Lukes'})-[:WORKS_IN]->(c:Company) RETURN c.name\u001b[0m\n",
      "Full Context:\n",
      "\u001b[32;1m\u001b[1;3m[{'c.name': 'Toolbox Creative'}]\u001b[0m\n",
      "\n",
      "\u001b[1m> Finished chain.\u001b[0m\n",
      "I don't know the answer.\n",
      "====== END ====== \n",
      "\n",
      "====== START ======\n",
      "\n",
      "\n",
      "\u001b[1m> Entering new GraphCypherQAChain chain...\u001b[0m\n",
      "Generated Cypher:\n",
      "\u001b[32;1m\u001b[1;3mMATCH (p:Person)-[:LIVES_IN]->(:Country {name: 'Canada'}), (p)-[:SPEAKS]->(:Language {name: 'Vietnamese'}) RETURN p.name\u001b[0m\n",
      "Full Context:\n",
      "\u001b[32;1m\u001b[1;3m[{'p.name': 'Vitaly Nhuien'}]\u001b[0m\n",
      "\n",
      "\u001b[1m> Finished chain.\u001b[0m\n",
      "Vitaly Nhuien is a worker residing in Canada who is proficient in Vietnamese.\n",
      "====== END ====== \n",
      "\n",
      "====== START ======\n",
      "\n",
      "\n",
      "\u001b[1m> Entering new GraphCypherQAChain chain...\u001b[0m\n",
      "Generated Cypher:\n",
      "\u001b[32;1m\u001b[1;3mMATCH (p:Person)-[:LIVES_IN]->(:Country {name: 'United States'}), (p)-[:SPEAKS]->(:Language {name: 'Urdu'}) RETURN COUNT(p)\u001b[0m\n",
      "Full Context:\n",
      "\u001b[32;1m\u001b[1;3m[{'COUNT(p)': 1}]\u001b[0m\n",
      "\n",
      "\u001b[1m> Finished chain.\u001b[0m\n",
      "I don't know the answer.\n",
      "====== END ====== \n",
      "\n"
     ]
    }
   ],
   "source": [
    "for q in questions:\n",
    "    print('====== START ======')\n",
    "    print(chain2.invoke(q)['result'])\n",
    "    print('====== END ====== \\n')"
   ]
  },
  {
   "cell_type": "code",
   "execution_count": 14,
   "metadata": {},
   "outputs": [
    {
     "name": "stdout",
     "output_type": "stream",
     "text": [
      "You are a Neo4j expert. Given an input question, create a syntactically correct Cypher query to run.\n",
      "\n",
      "Here is the schema information\n",
      "foo.\n",
      "\n",
      "Below are a number of examples of questions and their corresponding Cypher queries.\n",
      "\n",
      "User input: What companies do workers named John work in?\n",
      "Cypher query: MATCH (p:Person {name: 'John'})-[:WORKS_IN]->(c:Company) RETURN c.name\n",
      "\n",
      "User input: Where do workers named Alice live?\n",
      "Cypher query: MATCH (p:Person {name: 'Alice'})-[:LIVES_IN]->(c:Country) RETURN c.name\n",
      "\n",
      "User input: What industries are workers named Emily associated with?\n",
      "Cypher query: MATCH (p:Person {name: 'Emily'})-[:WORKS_IN]->(c:Company)-[:IS_IN]->(i:Industry) RETURN i.name\n",
      "\n",
      "User input: Where do Michael work?\n",
      "Cypher query: \n"
     ]
    }
   ],
   "source": [
    "print(dynamic_prompt.format(question=\"Where do Michael work?\", schema=\"foo\"))\n"
   ]
  }
 ],
 "metadata": {
  "kernelspec": {
   "display_name": "venv",
   "language": "python",
   "name": "python3"
  },
  "language_info": {
   "codemirror_mode": {
    "name": "ipython",
    "version": 3
   },
   "file_extension": ".py",
   "mimetype": "text/x-python",
   "name": "python",
   "nbconvert_exporter": "python",
   "pygments_lexer": "ipython3",
   "version": "3.9.6"
  }
 },
 "nbformat": 4,
 "nbformat_minor": 2
}
